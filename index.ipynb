{
 "cells": [
  {
   "cell_type": "markdown",
   "metadata": {},
   "source": [
    "# Skewness and Kurtosis - Lab\n",
    "\n",
    "## Introduction\n",
    "\n",
    "In this lab, you'll calculate skewness and kurtosis for a given dataset in SciPy using Python.\n",
    "\n",
    "## Objectives\n",
    "You will be able to:\n",
    "\n",
    "* Calculate and interpret values of skewness and kurtosis\n",
    "\n",
    "## Bring in SciPy\n",
    "In the previous lesson, you have seen formulas to calculate skewness and kurtosis for your data. SciPy comes packaged with these functions and provides an easy way to calculate these two quantities, see [scipy.stats.kurtosis](https://docs.scipy.org/doc/scipy/reference/generated/scipy.stats.kurtosis.html#scipy.stats.kurtosis) and [scipy.stats.skew](https://docs.scipy.org/doc/scipy/reference/generated/scipy.stats.skew.html). Check out the official SciPy documentation to dig deeper into this. Otherwise, simply pull up the documentation within the Jupyter notebook using `shift+tab` within the function call or pull up the full documentation with `kurtosis?` or `skew?`, once you have imported these methods from the SciPy package.\n",
    "\n",
    "You'll generate two datasets and measure/visualize and compare their skew and kurtosis in this lab."
   ]
  },
  {
   "cell_type": "code",
   "execution_count": 1,
   "metadata": {},
   "outputs": [],
   "source": [
    "# Import required libraries\n",
    "import numpy as np\n",
    "import matplotlib.pyplot as plt\n",
    "\n",
    "from scipy.stats import kurtosis, skew"
   ]
  },
  {
   "cell_type": "markdown",
   "metadata": {},
   "source": [
    "## Take 1\n",
    "* Generate a random normal variable `x_random` in NumPy with 10,000 values. Set the mean value to 0 and the standard deviation to 2.\n",
    "* Plot a histogram of the data, set bins to `auto` (default). \n",
    "* Calculate the skewness and kurtosis for this data distribution using the SciPy functions.\n",
    "* Record your observations about the calculated values and the shape of the data. "
   ]
  },
  {
   "cell_type": "code",
   "execution_count": 5,
   "metadata": {},
   "outputs": [
    {
     "name": "stdout",
     "output_type": "stream",
     "text": [
      "Skewness = -0.02523972775575319\n",
      "kurtosis = -0.06221333765923154\n"
     ]
    },
    {
     "data": {
      "image/png": "[encoded data removed]",
      "text/plain": [
       "<Figure size 432x288 with 1 Axes>"
      ]
     },
     "metadata": {
      "needs_background": "light"
     },
     "output_type": "display_data"
    }
   ],
   "source": [
    "mean, std, n = 0, 2, 10000\n",
    "x_random = np.random.normal(mean, std, n)\n",
    "k = kurtosis(x_random)\n",
    "s = skew(x_random)\n",
    "print(f'Skewness = {s}\\nkurtosis = {k}')\n",
    "# Skewness = -0.0025781248189666343\n",
    "# kurtosis = 0.03976806960642154\n",
    "plt.hist(x_random);"
   ]
  },
  {
   "cell_type": "code",
   "execution_count": 6,
   "metadata": {},
   "outputs": [],
   "source": [
    "# Your observations here \n",
    "\n",
    "# The skewness is in the 'pretty symetrical' category of -0.5 to 0.5.\n",
    "# The kurtosis, after having 3 subtracted from it, becomes -0.062 which makes it platykurtic\n",
    "#\n",
    "#"
   ]
  },
  {
   "cell_type": "markdown",
   "metadata": {},
   "source": [
    "## Take 2\n",
    "\n",
    "Let's generate another distribution "
   ]
  },
  {
   "cell_type": "code",
   "execution_count": 7,
   "metadata": {},
   "outputs": [],
   "source": [
    "x = np.linspace( -5, 5, 10000 )\n",
    "y = 1./(np.sqrt(2.*np.pi)) * np.exp( -.5*(x)**2  )  # normal distribution"
   ]
  },
  {
   "cell_type": "markdown",
   "metadata": {},
   "source": [
    "* Plot a histogram for data $y$, and set bins to auto (default).\n",
    "* Calculate the skewness and kurtosis for this data distribution using the SciPy functions.\n",
    "* Record your observations about the calculated values and the shape of the data."
   ]
  },
  {
   "cell_type": "code",
   "execution_count": 11,
   "metadata": {},
   "outputs": [
    {
     "name": "stdout",
     "output_type": "stream",
     "text": [
      "Skewness = 1.109511549276228\n",
      "kurtosis = -0.31039027765889804\n"
     ]
    },
    {
     "data": {
      "image/png": "[encoded data removed]",
      "text/plain": [
       "<Figure size 432x288 with 1 Axes>"
      ]
     },
     "metadata": {
      "needs_background": "light"
     },
     "output_type": "display_data"
    }
   ],
   "source": [
    "\n",
    "plt.hist(y)\n",
    "# Skewness = 1.109511549276228\n",
    "s = skew(y)\n",
    "# kurtosis = -0.31039027765889804\n",
    "k = kurtosis(y)\n",
    "\n",
    "print(f'Skewness = {s}\\nkurtosis = {k}')"
   ]
  },
  {
   "cell_type": "code",
   "execution_count": null,
   "metadata": {},
   "outputs": [],
   "source": [
    "# Your observations here \n",
    "\n",
    "# skewness: it is very skewed, with its kurtosis being outside the pretty symmetrical category and even outside \n",
    "# of the moderately skewed category\n",
    "#\n",
    "# kurtosis: platykurtic"
   ]
  },
  {
   "cell_type": "markdown",
   "metadata": {},
   "source": [
    "## Summary\n",
    "\n",
    "In this lesson we learned how to calculate, visualize, and analyze the skewness and kurtosis for any given distribution. We worked with synthetic datasets at this stage to get the concepts cleared up. Later we will try these techniques on real datasets to see if they are fit for analysis (or not). "
   ]
  }
 ],
 "metadata": {
  "kernelspec": {
   "display_name": "Python 3",
   "language": "python",
   "name": "python3"
  },
  "language_info": {
   "codemirror_mode": {
    "name": "ipython",
    "version": 3
   },
   "file_extension": ".py",
   "mimetype": "text/x-python",
   "name": "python",
   "nbconvert_exporter": "python",
   "pygments_lexer": "ipython3",
   "version": "3.6.9"
  },
  "toc": {
   "base_numbering": 1,
   "nav_menu": {},
   "number_sections": true,
   "sideBar": true,
   "skip_h1_title": false,
   "title_cell": "Table of Contents",
   "title_sidebar": "Contents",
   "toc_cell": false,
   "toc_position": {},
   "toc_section_display": true,
   "toc_window_display": false
  }
 },
 "nbformat": 4,
 "nbformat_minor": 2
}
